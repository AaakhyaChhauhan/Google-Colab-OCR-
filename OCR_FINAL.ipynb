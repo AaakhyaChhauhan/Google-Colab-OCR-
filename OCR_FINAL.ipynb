{
  "nbformat": 4,
  "nbformat_minor": 0,
  "metadata": {
    "colab": {
      "provenance": []
    },
    "kernelspec": {
      "name": "python3",
      "display_name": "Python 3"
    },
    "language_info": {
      "name": "python"
    }
  },
  "cells": [
    {
      "cell_type": "code",
      "execution_count": null,
      "metadata": {
        "id": "AB9qNe1BjObY"
      },
      "outputs": [],
      "source": [
        "!sudo apt install tesseract-ocr -y\n",
        "!pip install pytesseract Pillow\n",
        "\n",
        "\n",
        "import pytesseract\n",
        "from PIL import Image\n",
        "import io\n",
        "from google.colab import files\n",
        "\n",
        "\n",
        "uploaded = files.upload()\n",
        "\n",
        "\n",
        "for filename in uploaded.keys():\n",
        "    # Open the image\n",
        "    img = Image.open(filename)\n",
        "\n",
        "    # Perform OCR\n",
        "    text = pytesseract.image_to_string(img)\n",
        "\n",
        "    # Print extracted text\n",
        "    print(\"\\n🟦 Extracted Text:\\n\")\n",
        "    print(text)\n",
        "\n",
        "    data = {\n",
        "        'ocr_text': text,\n",
        "        'vendor': 'aakhya',  # Example - can be extracted too\n",
        "        'amount': 200        # Dummy amount\n",
        "    }\n",
        "\n",
        "    import json\n",
        "    print(\"\\n🟩 Data to Send (Optional):\")\n",
        "    print(json.dumps(data, indent=2))"
      ]
    }
  ]
}